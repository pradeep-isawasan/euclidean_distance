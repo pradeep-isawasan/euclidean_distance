{
 "cells": [
  {
   "cell_type": "markdown",
   "metadata": {},
   "source": [
    "# Similarity Measure"
   ]
  },
  {
   "cell_type": "markdown",
   "metadata": {},
   "source": [
    "### Introduction\n",
    "The similarity measure is the measure of how much alike two data objects are. The similarity is highly dependent on the domain and application. "
   ]
  },
  {
   "cell_type": "markdown",
   "metadata": {},
   "source": [
    "### Why we need similarity and dissimilarity\n",
    "If we can measure similarity and dissimilarity, then\n",
    "+ we can distinguish one object from another\n",
    "+ we can group them based on similarity and dissimilarity (for example k-means clustering)\n",
    "+ we can classify a new object into the group"
   ]
  },
  {
   "cell_type": "markdown",
   "metadata": {},
   "source": [
    "### Euclidean Distance\n",
    "When data is dense or continuous, this is the best proximity measure. The Euclidean distance between two points is the length of the path connecting them.This distance between two points is given by the Pythagorean theorem. The Euclidean distance can be measured as following:\n",
    "\n",
    "$$d(x,y) = \\sqrt{\\sum_{k=1}^{n}(x_k-y_k)^2} $$\n",
    "\n",
    "where\n",
    "+ $n$ is the number of dimensions (attributes)\n",
    "+ $x_k$ and $y_k$ are respectively the $k^{th}$ attributes"
   ]
  },
  {
   "cell_type": "markdown",
   "metadata": {},
   "source": [
    "### Classification using Euclidean Distance"
   ]
  },
  {
   "cell_type": "markdown",
   "metadata": {},
   "source": [
    "#### Data\n",
    "Let say that you did an experiment where you collect a species of fish and measures its weight, length and label it young, mid or adult. Below is the dataset."
   ]
  },
  {
   "cell_type": "code",
   "execution_count": 26,
   "metadata": {},
   "outputs": [
    {
     "data": {
      "text/plain": [
       "array([[6.6, 6.2, 1. ],\n",
       "       [9.7, 9.9, 2. ],\n",
       "       [8. , 8.3, 2. ],\n",
       "       [6.3, 5.3, 1. ],\n",
       "       [1.3, 2.7, 0. ],\n",
       "       [2.4, 3.1, 0. ],\n",
       "       [6.6, 6.1, 1. ],\n",
       "       [6.6, 6.4, 1. ],\n",
       "       [6.3, 5.8, 1. ],\n",
       "       [9.6, 9.8, 2. ],\n",
       "       [8.9, 8.9, 2. ],\n",
       "       [8.7, 9.9, 2. ],\n",
       "       [2.4, 3.8, 0. ],\n",
       "       [2. , 3.2, 0. ],\n",
       "       [1.3, 1.7, 0. ]])"
      ]
     },
     "execution_count": 26,
     "metadata": {},
     "output_type": "execute_result"
    }
   ],
   "source": [
    "import numpy as np\n",
    "\n",
    "X = np.array([[6.6, 6.2, 1],\n",
    "              [9.7, 9.9, 2],\n",
    "              [8.0, 8.3, 2],\n",
    "              [6.3, 5.3, 1],\n",
    "              [1.3, 2.7, 0],\n",
    "              [2.4, 3.1, 0],\n",
    "              [6.6, 6.1, 1],\n",
    "              [6.6, 6.4, 1],\n",
    "              [6.3, 5.8, 1],\n",
    "              [9.6, 9.8, 2],\n",
    "              [8.9, 8.9, 2],\n",
    "              [8.7, 9.9, 2],\n",
    "              [2.4, 3.8, 0],\n",
    "              [2.0, 3.2, 0],\n",
    "              [1.3, 1.7, 0]])\n",
    "X"
   ]
  },
  {
   "cell_type": "markdown",
   "metadata": {},
   "source": [
    "#### Preparing the data"
   ]
  },
  {
   "cell_type": "code",
   "execution_count": 27,
   "metadata": {},
   "outputs": [
    {
     "data": {
      "text/html": [
       "<div>\n",
       "<style scoped>\n",
       "    .dataframe tbody tr th:only-of-type {\n",
       "        vertical-align: middle;\n",
       "    }\n",
       "\n",
       "    .dataframe tbody tr th {\n",
       "        vertical-align: top;\n",
       "    }\n",
       "\n",
       "    .dataframe thead th {\n",
       "        text-align: right;\n",
       "    }\n",
       "</style>\n",
       "<table border=\"1\" class=\"dataframe\">\n",
       "  <thead>\n",
       "    <tr style=\"text-align: right;\">\n",
       "      <th></th>\n",
       "      <th>weight</th>\n",
       "      <th>length</th>\n",
       "      <th>label</th>\n",
       "    </tr>\n",
       "  </thead>\n",
       "  <tbody>\n",
       "    <tr>\n",
       "      <th>0</th>\n",
       "      <td>6.6</td>\n",
       "      <td>6.2</td>\n",
       "      <td>1.0</td>\n",
       "    </tr>\n",
       "    <tr>\n",
       "      <th>1</th>\n",
       "      <td>9.7</td>\n",
       "      <td>9.9</td>\n",
       "      <td>2.0</td>\n",
       "    </tr>\n",
       "    <tr>\n",
       "      <th>2</th>\n",
       "      <td>8.0</td>\n",
       "      <td>8.3</td>\n",
       "      <td>2.0</td>\n",
       "    </tr>\n",
       "    <tr>\n",
       "      <th>3</th>\n",
       "      <td>6.3</td>\n",
       "      <td>5.3</td>\n",
       "      <td>1.0</td>\n",
       "    </tr>\n",
       "    <tr>\n",
       "      <th>4</th>\n",
       "      <td>1.3</td>\n",
       "      <td>2.7</td>\n",
       "      <td>0.0</td>\n",
       "    </tr>\n",
       "    <tr>\n",
       "      <th>5</th>\n",
       "      <td>2.4</td>\n",
       "      <td>3.1</td>\n",
       "      <td>0.0</td>\n",
       "    </tr>\n",
       "    <tr>\n",
       "      <th>6</th>\n",
       "      <td>6.6</td>\n",
       "      <td>6.1</td>\n",
       "      <td>1.0</td>\n",
       "    </tr>\n",
       "    <tr>\n",
       "      <th>7</th>\n",
       "      <td>6.6</td>\n",
       "      <td>6.4</td>\n",
       "      <td>1.0</td>\n",
       "    </tr>\n",
       "    <tr>\n",
       "      <th>8</th>\n",
       "      <td>6.3</td>\n",
       "      <td>5.8</td>\n",
       "      <td>1.0</td>\n",
       "    </tr>\n",
       "    <tr>\n",
       "      <th>9</th>\n",
       "      <td>9.6</td>\n",
       "      <td>9.8</td>\n",
       "      <td>2.0</td>\n",
       "    </tr>\n",
       "    <tr>\n",
       "      <th>10</th>\n",
       "      <td>8.9</td>\n",
       "      <td>8.9</td>\n",
       "      <td>2.0</td>\n",
       "    </tr>\n",
       "    <tr>\n",
       "      <th>11</th>\n",
       "      <td>8.7</td>\n",
       "      <td>9.9</td>\n",
       "      <td>2.0</td>\n",
       "    </tr>\n",
       "    <tr>\n",
       "      <th>12</th>\n",
       "      <td>2.4</td>\n",
       "      <td>3.8</td>\n",
       "      <td>0.0</td>\n",
       "    </tr>\n",
       "    <tr>\n",
       "      <th>13</th>\n",
       "      <td>2.0</td>\n",
       "      <td>3.2</td>\n",
       "      <td>0.0</td>\n",
       "    </tr>\n",
       "    <tr>\n",
       "      <th>14</th>\n",
       "      <td>1.3</td>\n",
       "      <td>1.7</td>\n",
       "      <td>0.0</td>\n",
       "    </tr>\n",
       "  </tbody>\n",
       "</table>\n",
       "</div>"
      ],
      "text/plain": [
       "    weight  length  label\n",
       "0      6.6     6.2    1.0\n",
       "1      9.7     9.9    2.0\n",
       "2      8.0     8.3    2.0\n",
       "3      6.3     5.3    1.0\n",
       "4      1.3     2.7    0.0\n",
       "5      2.4     3.1    0.0\n",
       "6      6.6     6.1    1.0\n",
       "7      6.6     6.4    1.0\n",
       "8      6.3     5.8    1.0\n",
       "9      9.6     9.8    2.0\n",
       "10     8.9     8.9    2.0\n",
       "11     8.7     9.9    2.0\n",
       "12     2.4     3.8    0.0\n",
       "13     2.0     3.2    0.0\n",
       "14     1.3     1.7    0.0"
      ]
     },
     "execution_count": 27,
     "metadata": {},
     "output_type": "execute_result"
    }
   ],
   "source": [
    "import pandas as pd\n",
    "\n",
    "df = pd.DataFrame(X, columns=['weight', 'length', 'label'])\n",
    "df"
   ]
  },
  {
   "cell_type": "markdown",
   "metadata": {},
   "source": [
    "Now the data can be plotted to visualize the three different groups. They are subsetted by their label, assigned a different colour and label, and by repeating this they form different layers in the scatter plot."
   ]
  },
  {
   "cell_type": "code",
   "execution_count": 28,
   "metadata": {},
   "outputs": [
    {
     "data": {
      "image/png": "[encoded data removed]",
      "text/plain": [
       "<Figure size 432x288 with 1 Axes>"
      ]
     },
     "metadata": {},
     "output_type": "display_data"
    }
   ],
   "source": [
    "%matplotlib inline\n",
    "ax = df[df['label'] == 0].plot.scatter(x='weight', y='length', c='green', label='young')\n",
    "ax = df[df['label'] == 1].plot.scatter(x='weight', y='length', c='blue', label='mid', ax=ax)\n",
    "ax = df[df['label'] == 2].plot.scatter(x='weight', y='length', c='red', label='adult', ax=ax)"
   ]
  },
  {
   "cell_type": "markdown",
   "metadata": {},
   "source": [
    "#### Classifying\n",
    "Considering instance #0, #1, and #4 to be our known instances, we assume that we don’t know the label of #14. Plotting this will look as follows:"
   ]
  },
  {
   "cell_type": "code",
   "execution_count": 29,
   "metadata": {},
   "outputs": [
    {
     "data": {
      "image/png": "[encoded data removed]",
      "text/plain": [
       "<Figure size 432x288 with 1 Axes>"
      ]
     },
     "metadata": {},
     "output_type": "display_data"
    }
   ],
   "source": [
    "df2 = pd.DataFrame([df.iloc[0], df.iloc[1], df.iloc[4]], columns=['weight', 'length', 'label'])\n",
    "df3 = pd.DataFrame([df.iloc[14]], columns=['weight', 'length', 'label'])\n",
    "\n",
    "ax = df2[df2['label'] == 0].plot.scatter(x='weight', y='length', c='green', label='young')\n",
    "ax = df2[df2['label'] == 1].plot.scatter(x='weight', y='length', c='blue', label='mid', ax=ax)\n",
    "ax = df2[df2['label'] == 2].plot.scatter(x='weight', y='length', c='red', label='adult', ax=ax)\n",
    "ax = df3.plot.scatter(x='weight', y='length', c='gray', label='?', ax=ax)"
   ]
  },
  {
   "cell_type": "markdown",
   "metadata": {},
   "source": [
    "Based on this visualization you can easily group the grey data with the green data. But lets check using Euclidean distance."
   ]
  },
  {
   "cell_type": "markdown",
   "metadata": {},
   "source": [
    "#### Classfying using Euclidian"
   ]
  },
  {
   "cell_type": "code",
   "execution_count": 30,
   "metadata": {},
   "outputs": [
    {
     "data": {
      "text/html": [
       "<div>\n",
       "<style scoped>\n",
       "    .dataframe tbody tr th:only-of-type {\n",
       "        vertical-align: middle;\n",
       "    }\n",
       "\n",
       "    .dataframe tbody tr th {\n",
       "        vertical-align: top;\n",
       "    }\n",
       "\n",
       "    .dataframe thead th {\n",
       "        text-align: right;\n",
       "    }\n",
       "</style>\n",
       "<table border=\"1\" class=\"dataframe\">\n",
       "  <thead>\n",
       "    <tr style=\"text-align: right;\">\n",
       "      <th></th>\n",
       "      <th>x</th>\n",
       "      <th>y</th>\n",
       "    </tr>\n",
       "  </thead>\n",
       "  <tbody>\n",
       "    <tr>\n",
       "      <th>x0</th>\n",
       "      <td>6.6</td>\n",
       "      <td>6.2</td>\n",
       "    </tr>\n",
       "    <tr>\n",
       "      <th>x1</th>\n",
       "      <td>9.7</td>\n",
       "      <td>9.9</td>\n",
       "    </tr>\n",
       "    <tr>\n",
       "      <th>x4</th>\n",
       "      <td>1.3</td>\n",
       "      <td>2.7</td>\n",
       "    </tr>\n",
       "    <tr>\n",
       "      <th>x14</th>\n",
       "      <td>1.3</td>\n",
       "      <td>1.7</td>\n",
       "    </tr>\n",
       "  </tbody>\n",
       "</table>\n",
       "</div>"
      ],
      "text/plain": [
       "       x    y\n",
       "x0   6.6  6.2\n",
       "x1   9.7  9.9\n",
       "x4   1.3  2.7\n",
       "x14  1.3  1.7"
      ]
     },
     "metadata": {},
     "output_type": "display_data"
    }
   ],
   "source": [
    "x0 = X[0][:-1]\n",
    "x1 = X[1][:-1]\n",
    "x4 = X[4][:-1]\n",
    "x14 = X[14][:-1]\n",
    "\n",
    "data = [x0, x1, x4, x14]\n",
    "df = pd.DataFrame(data,index = [\"x0\", \"x1\", \"x4\", \"x14\"] ,columns=['x','y'])\n",
    "display(df)"
   ]
  },
  {
   "cell_type": "markdown",
   "metadata": {},
   "source": [
    "Lets find Euclidean distance for each of them with respective to instance #14"
   ]
  },
  {
   "cell_type": "code",
   "execution_count": 32,
   "metadata": {},
   "outputs": [
    {
     "data": {
      "text/html": [
       "<div>\n",
       "<style scoped>\n",
       "    .dataframe tbody tr th:only-of-type {\n",
       "        vertical-align: middle;\n",
       "    }\n",
       "\n",
       "    .dataframe tbody tr th {\n",
       "        vertical-align: top;\n",
       "    }\n",
       "\n",
       "    .dataframe thead th {\n",
       "        text-align: right;\n",
       "    }\n",
       "</style>\n",
       "<table border=\"1\" class=\"dataframe\">\n",
       "  <thead>\n",
       "    <tr style=\"text-align: right;\">\n",
       "      <th></th>\n",
       "      <th>Euclidean Distance</th>\n",
       "    </tr>\n",
       "  </thead>\n",
       "  <tbody>\n",
       "    <tr>\n",
       "      <th>(x14, x0)</th>\n",
       "      <td>6.952697</td>\n",
       "    </tr>\n",
       "    <tr>\n",
       "      <th>(x14, x1)</th>\n",
       "      <td>11.738824</td>\n",
       "    </tr>\n",
       "    <tr>\n",
       "      <th>(x14, x4)</th>\n",
       "      <td>1.000000</td>\n",
       "    </tr>\n",
       "  </tbody>\n",
       "</table>\n",
       "</div>"
      ],
      "text/plain": [
       "           Euclidean Distance\n",
       "(x14, x0)            6.952697\n",
       "(x14, x1)           11.738824\n",
       "(x14, x4)            1.000000"
      ]
     },
     "metadata": {},
     "output_type": "display_data"
    }
   ],
   "source": [
    "#function to calculate Euclidean Distance\n",
    "def euclidean_distance(x, y):   \n",
    "    return np.sqrt(np.sum((x - y) ** 2))\n",
    "\n",
    "data1 = [euclidean_distance(x14, x0), euclidean_distance(x14, x1), euclidean_distance(x14, x4)]\n",
    "df1 = pd.DataFrame(data1,index = [\"(x14, x0)\", \"(x14, x1)\", \"(x14, x4)\"] ,columns=['Euclidean Distance'])\n",
    "display(df1)"
   ]
  },
  {
   "cell_type": "markdown",
   "metadata": {},
   "source": [
    "According to euclidean distance, instance #14 is closest to #4. The 4th instance had the label:"
   ]
  },
  {
   "cell_type": "code",
   "execution_count": 33,
   "metadata": {},
   "outputs": [
    {
     "data": {
      "text/plain": [
       "array([1.3, 2.7, 0. ])"
      ]
     },
     "execution_count": 33,
     "metadata": {},
     "output_type": "execute_result"
    }
   ],
   "source": [
    "X[4]"
   ]
  },
  {
   "cell_type": "markdown",
   "metadata": {},
   "source": [
    "For more detailed information, this will a great book to refer to: Introduction to Data Mining (Second Edition), By (author)  Pang-Ning Tan ,Michael Steinbach ,Anuj Karpatne ,Vipin Kumar"
   ]
  }
 ],
 "metadata": {
  "kernelspec": {
   "display_name": "Python 2",
   "language": "python",
   "name": "python2"
  },
  "language_info": {
   "codemirror_mode": {
    "name": "ipython",
    "version": 2
   },
   "file_extension": ".py",
   "mimetype": "text/x-python",
   "name": "python",
   "nbconvert_exporter": "python",
   "pygments_lexer": "ipython2",
   "version": "2.7.15"
  }
 },
 "nbformat": 4,
 "nbformat_minor": 2
}
